{
 "cells": [
  {
   "cell_type": "code",
   "execution_count": 11,
   "metadata": {},
   "outputs": [],
   "source": [
    "from dotenv import load_dotenv\n",
    "import pandas as pd\n",
    "import numpy as np\n",
    "import requests\n",
    "import os\n",
    "import json"
   ]
  },
  {
   "cell_type": "markdown",
   "metadata": {},
   "source": [
    "## Load Dataset"
   ]
  },
  {
   "cell_type": "code",
   "execution_count": 3,
   "metadata": {},
   "outputs": [],
   "source": [
    "load_dotenv('.env')\n",
    "TOKEN=os.getenv('TOKEN')"
   ]
  },
  {
   "cell_type": "code",
   "execution_count": 4,
   "metadata": {},
   "outputs": [],
   "source": [
    "URL=f\"https://api.tiingo.com/tiingo/crypto/prices\"\n",
    "\n",
    "params = {\n",
    "    \"tickers\":\"btcusd\",\n",
    "    \"startDate\":\"2024-01-02\",\n",
    "    \"token\":TOKEN,\n",
    "    \"resampleFreq\":\"1day\"\n",
    "}\n",
    "\n",
    "headers = {\n",
    "    'Content-Type': 'application/json'\n",
    "}"
   ]
  },
  {
   "cell_type": "code",
   "execution_count": 7,
   "metadata": {},
   "outputs": [],
   "source": [
    "response = requests.get(URL, headers=headers, params=params)"
   ]
  },
  {
   "cell_type": "code",
   "execution_count": 20,
   "metadata": {},
   "outputs": [],
   "source": [
    "df = pd.DataFrame(response.json()[0]['priceData'])"
   ]
  },
  {
   "cell_type": "code",
   "execution_count": 21,
   "metadata": {},
   "outputs": [
    {
     "data": {
      "application/vnd.microsoft.datawrangler.viewer.v0+json": {
       "columns": [
        {
         "name": "index",
         "rawType": "int64",
         "type": "integer"
        },
        {
         "name": "date",
         "rawType": "object",
         "type": "string"
        },
        {
         "name": "open",
         "rawType": "float64",
         "type": "float"
        },
        {
         "name": "high",
         "rawType": "float64",
         "type": "float"
        },
        {
         "name": "low",
         "rawType": "float64",
         "type": "float"
        },
        {
         "name": "close",
         "rawType": "float64",
         "type": "float"
        },
        {
         "name": "volume",
         "rawType": "float64",
         "type": "float"
        },
        {
         "name": "volumeNotional",
         "rawType": "float64",
         "type": "float"
        },
        {
         "name": "tradesDone",
         "rawType": "float64",
         "type": "float"
        }
       ],
       "conversionMethod": "pd.DataFrame",
       "ref": "1554535a-c254-47f0-9c58-76fa40c5bed4",
       "rows": [
        [
         "0",
         "2024-01-02T00:00:00+00:00",
         "44211.06141483549",
         "45923.924576567595",
         "44188.52385324057",
         "44974.05198526063",
         "40068.10828042",
         "1802025184.7546608",
         "543927.0"
        ],
        [
         "1",
         "2024-01-03T00:00:00+00:00",
         "44975.94986447641",
         "45521.02328743536",
         "40619.777448083834",
         "42862.35120957845",
         "44075.06883858",
         "1889161080.1455631",
         "650108.0"
        ],
        [
         "2",
         "2024-01-04T00:00:00+00:00",
         "42861.29708387162",
         "44799.4107443963",
         "42654.41208557803",
         "44195.296702290354",
         "24879.77652482",
         "1099569105.4010983",
         "385907.0"
        ],
        [
         "3",
         "2024-01-05T00:00:00+00:00",
         "44199.96167269245",
         "44431.36063710009",
         "42455.20822779846",
         "44186.80932628884",
         "25565.207216600003",
         "1129644936.6669679",
         "395564.0"
        ],
        [
         "4",
         "2024-01-06T00:00:00+00:00",
         "44188.013964554244",
         "44258.93626552191",
         "43439.232078384615",
         "43994.11548492593",
         "7832.32083756",
         "344576027.44260645",
         "190681.0"
        ]
       ],
       "shape": {
        "columns": 8,
        "rows": 5
       }
      },
      "text/html": [
       "<div>\n",
       "<style scoped>\n",
       "    .dataframe tbody tr th:only-of-type {\n",
       "        vertical-align: middle;\n",
       "    }\n",
       "\n",
       "    .dataframe tbody tr th {\n",
       "        vertical-align: top;\n",
       "    }\n",
       "\n",
       "    .dataframe thead th {\n",
       "        text-align: right;\n",
       "    }\n",
       "</style>\n",
       "<table border=\"1\" class=\"dataframe\">\n",
       "  <thead>\n",
       "    <tr style=\"text-align: right;\">\n",
       "      <th></th>\n",
       "      <th>date</th>\n",
       "      <th>open</th>\n",
       "      <th>high</th>\n",
       "      <th>low</th>\n",
       "      <th>close</th>\n",
       "      <th>volume</th>\n",
       "      <th>volumeNotional</th>\n",
       "      <th>tradesDone</th>\n",
       "    </tr>\n",
       "  </thead>\n",
       "  <tbody>\n",
       "    <tr>\n",
       "      <th>0</th>\n",
       "      <td>2024-01-02T00:00:00+00:00</td>\n",
       "      <td>44211.061415</td>\n",
       "      <td>45923.924577</td>\n",
       "      <td>44188.523853</td>\n",
       "      <td>44974.051985</td>\n",
       "      <td>40068.108280</td>\n",
       "      <td>1.802025e+09</td>\n",
       "      <td>543927.0</td>\n",
       "    </tr>\n",
       "    <tr>\n",
       "      <th>1</th>\n",
       "      <td>2024-01-03T00:00:00+00:00</td>\n",
       "      <td>44975.949864</td>\n",
       "      <td>45521.023287</td>\n",
       "      <td>40619.777448</td>\n",
       "      <td>42862.351210</td>\n",
       "      <td>44075.068839</td>\n",
       "      <td>1.889161e+09</td>\n",
       "      <td>650108.0</td>\n",
       "    </tr>\n",
       "    <tr>\n",
       "      <th>2</th>\n",
       "      <td>2024-01-04T00:00:00+00:00</td>\n",
       "      <td>42861.297084</td>\n",
       "      <td>44799.410744</td>\n",
       "      <td>42654.412086</td>\n",
       "      <td>44195.296702</td>\n",
       "      <td>24879.776525</td>\n",
       "      <td>1.099569e+09</td>\n",
       "      <td>385907.0</td>\n",
       "    </tr>\n",
       "    <tr>\n",
       "      <th>3</th>\n",
       "      <td>2024-01-05T00:00:00+00:00</td>\n",
       "      <td>44199.961673</td>\n",
       "      <td>44431.360637</td>\n",
       "      <td>42455.208228</td>\n",
       "      <td>44186.809326</td>\n",
       "      <td>25565.207217</td>\n",
       "      <td>1.129645e+09</td>\n",
       "      <td>395564.0</td>\n",
       "    </tr>\n",
       "    <tr>\n",
       "      <th>4</th>\n",
       "      <td>2024-01-06T00:00:00+00:00</td>\n",
       "      <td>44188.013965</td>\n",
       "      <td>44258.936266</td>\n",
       "      <td>43439.232078</td>\n",
       "      <td>43994.115485</td>\n",
       "      <td>7832.320838</td>\n",
       "      <td>3.445760e+08</td>\n",
       "      <td>190681.0</td>\n",
       "    </tr>\n",
       "  </tbody>\n",
       "</table>\n",
       "</div>"
      ],
      "text/plain": [
       "                        date          open          high           low   \n",
       "0  2024-01-02T00:00:00+00:00  44211.061415  45923.924577  44188.523853  \\\n",
       "1  2024-01-03T00:00:00+00:00  44975.949864  45521.023287  40619.777448   \n",
       "2  2024-01-04T00:00:00+00:00  42861.297084  44799.410744  42654.412086   \n",
       "3  2024-01-05T00:00:00+00:00  44199.961673  44431.360637  42455.208228   \n",
       "4  2024-01-06T00:00:00+00:00  44188.013965  44258.936266  43439.232078   \n",
       "\n",
       "          close        volume  volumeNotional  tradesDone  \n",
       "0  44974.051985  40068.108280    1.802025e+09    543927.0  \n",
       "1  42862.351210  44075.068839    1.889161e+09    650108.0  \n",
       "2  44195.296702  24879.776525    1.099569e+09    385907.0  \n",
       "3  44186.809326  25565.207217    1.129645e+09    395564.0  \n",
       "4  43994.115485   7832.320838    3.445760e+08    190681.0  "
      ]
     },
     "execution_count": 21,
     "metadata": {},
     "output_type": "execute_result"
    }
   ],
   "source": [
    "df.head()"
   ]
  }
 ],
 "metadata": {
  "kernelspec": {
   "display_name": "Python 3",
   "language": "python",
   "name": "python3"
  },
  "language_info": {
   "codemirror_mode": {
    "name": "ipython",
    "version": 3
   },
   "file_extension": ".py",
   "mimetype": "text/x-python",
   "name": "python",
   "nbconvert_exporter": "python",
   "pygments_lexer": "ipython3",
   "version": "3.10.11"
  }
 },
 "nbformat": 4,
 "nbformat_minor": 2
}
