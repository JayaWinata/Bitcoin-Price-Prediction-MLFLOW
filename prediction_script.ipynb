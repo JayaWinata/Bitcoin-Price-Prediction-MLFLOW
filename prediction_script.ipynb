{
 "cells": [
  {
   "cell_type": "code",
   "execution_count": null,
   "metadata": {},
   "outputs": [],
   "source": [
    "# !pip install pyngrok\n",
    "# !pip install hyperopt\n",
    "# !pip install dotenv\n",
    "# !pip install tensorflow"
   ]
  },
  {
   "cell_type": "code",
   "execution_count": null,
   "metadata": {},
   "outputs": [],
   "source": [
    "# !pip install --ignore-installed --force-reinstall mlflow"
   ]
  },
  {
   "cell_type": "code",
   "execution_count": null,
   "metadata": {},
   "outputs": [
    {
     "name": "stdout",
     "output_type": "stream",
     "text": [
      "WARNING:tensorflow:From C:\\Users\\jayaw\\AppData\\Local\\Packages\\PythonSoftwareFoundation.Python.3.10_qbz5n2kfra8p0\\LocalCache\\local-packages\\Python310\\site-packages\\keras\\src\\losses.py:2976: The name tf.losses.sparse_softmax_cross_entropy is deprecated. Please use tf.compat.v1.losses.sparse_softmax_cross_entropy instead.\n",
      "\n"
     ]
    }
   ],
   "source": [
    "from sklearn.metrics import r2_score, mean_absolute_error, make_scorer\n",
    "from sklearn.preprocessing import MinMaxScaler, StandardScaler\n",
    "import matplotlib.pyplot as plt\n",
    "import pandas as pd\n",
    "import numpy as np\n",
    "\n",
    "from keras.layers import Dense, LeakyReLU, SimpleRNN, LSTM\n",
    "from keras.models import Sequential\n",
    "from keras.optimizers import Adam\n",
    "from keras import models\n",
    "from keras import layers\n",
    "# import tensorflow as tf\n",
    "\n",
    "from mlflow.models import infer_signature\n",
    "from pyngrok import ngrok, conf\n",
    "import mlflow.tensorflow\n",
    "import mlflow.sklearn\n",
    "import subprocess\n",
    "import getpass\n",
    "import mlflow\n",
    "\n",
    "from dotenv import load_dotenv\n",
    "import requests\n",
    "import logging\n",
    "import os\n",
    "\n",
    "from hyperopt import fmin, tpe, hp, STATUS_OK, Trials"
   ]
  },
  {
   "cell_type": "markdown",
   "metadata": {},
   "source": [
    "## Load Dataset"
   ]
  },
  {
   "cell_type": "code",
   "execution_count": 2,
   "metadata": {},
   "outputs": [],
   "source": [
    "load_dotenv('.env')\n",
    "TOKEN=os.getenv('TOKEN')"
   ]
  },
  {
   "cell_type": "code",
   "execution_count": 3,
   "metadata": {},
   "outputs": [],
   "source": [
    "URL=f\"https://api.tiingo.com/tiingo/crypto/prices\"\n",
    "\n",
    "params = {\n",
    "    \"tickers\":\"btcusd\",\n",
    "    \"startDate\":\"2020-01-01\",\n",
    "    \"token\":TOKEN,\n",
    "    \"resampleFreq\":\"1day\"\n",
    "}\n",
    "\n",
    "headers = {\n",
    "    'Content-Type': 'application/json'\n",
    "}"
   ]
  },
  {
   "cell_type": "code",
   "execution_count": 4,
   "metadata": {},
   "outputs": [],
   "source": [
    "response = requests.get(URL, headers=headers, params=params)"
   ]
  },
  {
   "cell_type": "code",
   "execution_count": 5,
   "metadata": {},
   "outputs": [],
   "source": [
    "df = pd.DataFrame(response.json()[0]['priceData'])"
   ]
  },
  {
   "cell_type": "code",
   "execution_count": 6,
   "metadata": {},
   "outputs": [
    {
     "data": {
      "application/vnd.microsoft.datawrangler.viewer.v0+json": {
       "columns": [
        {
         "name": "index",
         "rawType": "int64",
         "type": "integer"
        },
        {
         "name": "date",
         "rawType": "object",
         "type": "string"
        },
        {
         "name": "open",
         "rawType": "float64",
         "type": "float"
        },
        {
         "name": "high",
         "rawType": "float64",
         "type": "float"
        },
        {
         "name": "low",
         "rawType": "float64",
         "type": "float"
        },
        {
         "name": "close",
         "rawType": "float64",
         "type": "float"
        },
        {
         "name": "volume",
         "rawType": "float64",
         "type": "float"
        },
        {
         "name": "volumeNotional",
         "rawType": "float64",
         "type": "float"
        },
        {
         "name": "tradesDone",
         "rawType": "float64",
         "type": "float"
        }
       ],
       "conversionMethod": "pd.DataFrame",
       "ref": "3f961e9d-af79-43ba-a5e7-372147eccf53",
       "rows": [
        [
         "0",
         "2020-01-01T00:00:00+00:00",
         "7190.600510715096",
         "7254.0026432360855",
         "7168.967988547491",
         "7196.776429525673",
         "23489.516384393202",
         "169048797.8561581",
         "244774.0"
        ],
        [
         "1",
         "2020-01-02T00:00:00+00:00",
         "7196.346028585246",
         "7208.28306447971",
         "6923.5638613545425",
         "6963.684559162969",
         "46760.0109227101",
         "325621966.0487681",
         "370066.0"
        ],
        [
         "2",
         "2020-01-03T00:00:00+00:00",
         "6963.407320096487",
         "7407.114204756193",
         "6870.7239929398675",
         "7345.355820998829",
         "92083.8730241979",
         "676388812.7384092",
         "628418.0"
        ],
        [
         "3",
         "2020-01-04T00:00:00+00:00",
         "7346.201139148587",
         "7404.769840598317",
         "7273.229247792731",
         "7354.87146608714",
         "40894.0097485051",
         "300770185.4331695",
         "360486.0"
        ],
        [
         "4",
         "2020-01-05T00:00:00+00:00",
         "7354.704327625806",
         "7495.945072097442",
         "7316.9674516610075",
         "7358.496281021496",
         "51084.1219049844",
         "375902321.05707645",
         "415855.0"
        ]
       ],
       "shape": {
        "columns": 8,
        "rows": 5
       }
      },
      "text/html": [
       "<div>\n",
       "<style scoped>\n",
       "    .dataframe tbody tr th:only-of-type {\n",
       "        vertical-align: middle;\n",
       "    }\n",
       "\n",
       "    .dataframe tbody tr th {\n",
       "        vertical-align: top;\n",
       "    }\n",
       "\n",
       "    .dataframe thead th {\n",
       "        text-align: right;\n",
       "    }\n",
       "</style>\n",
       "<table border=\"1\" class=\"dataframe\">\n",
       "  <thead>\n",
       "    <tr style=\"text-align: right;\">\n",
       "      <th></th>\n",
       "      <th>date</th>\n",
       "      <th>open</th>\n",
       "      <th>high</th>\n",
       "      <th>low</th>\n",
       "      <th>close</th>\n",
       "      <th>volume</th>\n",
       "      <th>volumeNotional</th>\n",
       "      <th>tradesDone</th>\n",
       "    </tr>\n",
       "  </thead>\n",
       "  <tbody>\n",
       "    <tr>\n",
       "      <th>0</th>\n",
       "      <td>2020-01-01T00:00:00+00:00</td>\n",
       "      <td>7190.600511</td>\n",
       "      <td>7254.002643</td>\n",
       "      <td>7168.967989</td>\n",
       "      <td>7196.776430</td>\n",
       "      <td>23489.516384</td>\n",
       "      <td>1.690488e+08</td>\n",
       "      <td>244774.0</td>\n",
       "    </tr>\n",
       "    <tr>\n",
       "      <th>1</th>\n",
       "      <td>2020-01-02T00:00:00+00:00</td>\n",
       "      <td>7196.346029</td>\n",
       "      <td>7208.283064</td>\n",
       "      <td>6923.563861</td>\n",
       "      <td>6963.684559</td>\n",
       "      <td>46760.010923</td>\n",
       "      <td>3.256220e+08</td>\n",
       "      <td>370066.0</td>\n",
       "    </tr>\n",
       "    <tr>\n",
       "      <th>2</th>\n",
       "      <td>2020-01-03T00:00:00+00:00</td>\n",
       "      <td>6963.407320</td>\n",
       "      <td>7407.114205</td>\n",
       "      <td>6870.723993</td>\n",
       "      <td>7345.355821</td>\n",
       "      <td>92083.873024</td>\n",
       "      <td>6.763888e+08</td>\n",
       "      <td>628418.0</td>\n",
       "    </tr>\n",
       "    <tr>\n",
       "      <th>3</th>\n",
       "      <td>2020-01-04T00:00:00+00:00</td>\n",
       "      <td>7346.201139</td>\n",
       "      <td>7404.769841</td>\n",
       "      <td>7273.229248</td>\n",
       "      <td>7354.871466</td>\n",
       "      <td>40894.009749</td>\n",
       "      <td>3.007702e+08</td>\n",
       "      <td>360486.0</td>\n",
       "    </tr>\n",
       "    <tr>\n",
       "      <th>4</th>\n",
       "      <td>2020-01-05T00:00:00+00:00</td>\n",
       "      <td>7354.704328</td>\n",
       "      <td>7495.945072</td>\n",
       "      <td>7316.967452</td>\n",
       "      <td>7358.496281</td>\n",
       "      <td>51084.121905</td>\n",
       "      <td>3.759023e+08</td>\n",
       "      <td>415855.0</td>\n",
       "    </tr>\n",
       "  </tbody>\n",
       "</table>\n",
       "</div>"
      ],
      "text/plain": [
       "                        date         open         high          low   \n",
       "0  2020-01-01T00:00:00+00:00  7190.600511  7254.002643  7168.967989  \\\n",
       "1  2020-01-02T00:00:00+00:00  7196.346029  7208.283064  6923.563861   \n",
       "2  2020-01-03T00:00:00+00:00  6963.407320  7407.114205  6870.723993   \n",
       "3  2020-01-04T00:00:00+00:00  7346.201139  7404.769841  7273.229248   \n",
       "4  2020-01-05T00:00:00+00:00  7354.704328  7495.945072  7316.967452   \n",
       "\n",
       "         close        volume  volumeNotional  tradesDone  \n",
       "0  7196.776430  23489.516384    1.690488e+08    244774.0  \n",
       "1  6963.684559  46760.010923    3.256220e+08    370066.0  \n",
       "2  7345.355821  92083.873024    6.763888e+08    628418.0  \n",
       "3  7354.871466  40894.009749    3.007702e+08    360486.0  \n",
       "4  7358.496281  51084.121905    3.759023e+08    415855.0  "
      ]
     },
     "execution_count": 6,
     "metadata": {},
     "output_type": "execute_result"
    }
   ],
   "source": [
    "df.head()"
   ]
  },
  {
   "cell_type": "code",
   "execution_count": 9,
   "metadata": {},
   "outputs": [],
   "source": [
    "df.to_csv(f\"{params['tickers']}_price.csv\",index=False)"
   ]
  },
  {
   "cell_type": "code",
   "execution_count": 10,
   "metadata": {},
   "outputs": [],
   "source": [
    "df = pd.read_csv('btcusd_price.csv')"
   ]
  },
  {
   "cell_type": "code",
   "execution_count": 12,
   "metadata": {},
   "outputs": [
    {
     "name": "stdout",
     "output_type": "stream",
     "text": [
      "0    7196.776430\n",
      "1    6963.684559\n",
      "2    7345.355821\n",
      "3    7354.871466\n",
      "4    7358.496281\n",
      "Name: close, dtype: float64\n",
      "1906    84062.482458\n",
      "1907    83846.882838\n",
      "1908    86097.126701\n",
      "1909    87518.652713\n",
      "1910    86531.362713\n",
      "Name: close, dtype: float64\n"
     ]
    }
   ],
   "source": [
    "df_close = df['close']\n",
    "print(df_close.head())\n",
    "print(df_close.tail())"
   ]
  },
  {
   "cell_type": "markdown",
   "metadata": {},
   "source": [
    "## Data Visualization"
   ]
  },
  {
   "cell_type": "code",
   "execution_count": 13,
   "metadata": {},
   "outputs": [
    {
     "data": {
      "text/plain": [
       "[<matplotlib.lines.Line2D at 0x2604518fca0>]"
      ]
     },
     "execution_count": 13,
     "metadata": {},
     "output_type": "execute_result"
    },
    {
     "data": {
      "image/png": "[encoded data removed]",
      "text/plain": [
       "<Figure size 640x480 with 1 Axes>"
      ]
     },
     "metadata": {},
     "output_type": "display_data"
    }
   ],
   "source": [
    "plt.plot(df_close)"
   ]
  },
  {
   "cell_type": "markdown",
   "metadata": {},
   "source": [
    "## Data Preprocessing\n",
    "\n",
    "Dataset version:\n",
    "- v1: MinMax Scaler\n",
    "- v2: Standard Scaler"
   ]
  },
  {
   "cell_type": "markdown",
   "metadata": {},
   "source": [
    "- ### MinMax Scaler"
   ]
  },
  {
   "cell_type": "code",
   "execution_count": 14,
   "metadata": {},
   "outputs": [],
   "source": [
    "scaler = MinMaxScaler()"
   ]
  },
  {
   "cell_type": "code",
   "execution_count": 15,
   "metadata": {},
   "outputs": [],
   "source": [
    "df_v1 = scaler.fit_transform(np.array(df_close).reshape(-1,1))"
   ]
  },
  {
   "cell_type": "code",
   "execution_count": 16,
   "metadata": {},
   "outputs": [
    {
     "data": {
      "text/plain": [
       "array([[0.02335103],\n",
       "       [0.02105066],\n",
       "       [0.02481735],\n",
       "       ...,\n",
       "       [0.80201362],\n",
       "       [0.81604257],\n",
       "       [0.80629906]])"
      ]
     },
     "execution_count": 16,
     "metadata": {},
     "output_type": "execute_result"
    }
   ],
   "source": [
    "df_v1"
   ]
  },
  {
   "cell_type": "markdown",
   "metadata": {},
   "source": [
    "- ### Standard Scaler"
   ]
  },
  {
   "cell_type": "code",
   "execution_count": 66,
   "metadata": {},
   "outputs": [],
   "source": [
    "scaler = StandardScaler()"
   ]
  },
  {
   "cell_type": "code",
   "execution_count": 67,
   "metadata": {},
   "outputs": [],
   "source": [
    "df_v2 = scaler.fit_transform(np.array(df_close).reshape(-1,1))"
   ]
  },
  {
   "cell_type": "code",
   "execution_count": 68,
   "metadata": {},
   "outputs": [
    {
     "data": {
      "text/plain": [
       "array([[-1.32734172],\n",
       "       [-1.33714735],\n",
       "       [-1.32109133],\n",
       "       ...,\n",
       "       [ 2.02485622],\n",
       "       [ 1.91130768],\n",
       "       [ 1.92724692]])"
      ]
     },
     "execution_count": 68,
     "metadata": {},
     "output_type": "execute_result"
    }
   ],
   "source": [
    "df_v2"
   ]
  },
  {
   "cell_type": "markdown",
   "metadata": {},
   "source": [
    "- ### Train Test Split"
   ]
  },
  {
   "cell_type": "code",
   "execution_count": 69,
   "metadata": {},
   "outputs": [],
   "source": [
    "TRAIN_SIZE = int(len(df) * .65) # Train 65% and Test 35%\n",
    "TEST_SIZE = len(df) - TRAIN_SIZE"
   ]
  },
  {
   "cell_type": "code",
   "execution_count": 70,
   "metadata": {},
   "outputs": [],
   "source": [
    "def split(df, train_size):\n",
    "    return df[0:train_size, 0], df[train_size+1:len(df), 0]"
   ]
  },
  {
   "cell_type": "code",
   "execution_count": 71,
   "metadata": {},
   "outputs": [],
   "source": [
    "train_df_v1, test_df_v1 = split(df_v1, TRAIN_SIZE)\n",
    "train_df_v2, test_df_v2 = split(df_v2, TRAIN_SIZE)"
   ]
  },
  {
   "cell_type": "markdown",
   "metadata": {},
   "source": [
    "- ### Converts Time Series Data into pairs of Input (X) and Output (y)"
   ]
  },
  {
   "cell_type": "code",
   "execution_count": 72,
   "metadata": {},
   "outputs": [],
   "source": [
    "def create_dataset(df, time_step=1):\n",
    "    '''\n",
    "    This function used to converts a sequence of time series data into pairs of input (X) and output (y).\n",
    "    This function creates sliding windows of past observations to predict the next value\n",
    "    '''\n",
    "    data_X, data_y = [], []\n",
    "    for i in range(len(df)-time_step-1):\n",
    "        temp = df[i:(i+time_step)]\n",
    "        data_X.append(temp)\n",
    "        data_y.append(df[i +time_step])\n",
    "    return np.array(data_X), np.array(data_y)"
   ]
  },
  {
   "cell_type": "code",
   "execution_count": 73,
   "metadata": {},
   "outputs": [],
   "source": [
    "TIME_STEP = 100"
   ]
  },
  {
   "cell_type": "code",
   "execution_count": 74,
   "metadata": {},
   "outputs": [],
   "source": [
    "X_train_v1, y_train_v1 = create_dataset(train_df_v1, TIME_STEP)\n",
    "X_train_v2, y_train_v2 = create_dataset(train_df_v2, TIME_STEP)\n",
    "X_test_v1, y_test_v1 = create_dataset(test_df_v1, TIME_STEP)\n",
    "X_test_v2, y_test_v2 = create_dataset(test_df_v2, TIME_STEP)"
   ]
  },
  {
   "cell_type": "code",
   "execution_count": null,
   "metadata": {},
   "outputs": [],
   "source": [
    "search_space = {\n",
    "    \"lr\": hp.loguniform(\"lr\", -7, -3),  # Learning rate between 1e-7 and 1e-3\n",
    "    \"lstm_units\": hp.choice(\"lstm_units\", [32, 50, 64, 128]),  # LSTM units\n",
    "    \"epochs\": hp.choice(\"epochs\", [20, 50, 100]),  # Number of epochs\n",
    "    \"batch_size\": hp.choice(\"batch_size\", [16, 32, 64, 128]),  # Batch size tuning\n",
    "    \"dataset\": hp.choice(\"dataset\", [\"v1\", \"v2\"])  # Dataset tuning\n",
    "}"
   ]
  },
  {
   "cell_type": "markdown",
   "metadata": {},
   "source": [
    "## Model Building"
   ]
  },
  {
   "cell_type": "code",
   "execution_count": null,
   "metadata": {},
   "outputs": [],
   "source": [
    "def train_model(params, epochs):\n",
    "    if params[\"dataset\"] == \"v1\":\n",
    "        X_train, y_train = X_train_v1, y_train_v1\n",
    "        X_test, y_test = X_test_v1, y_test_v1\n",
    "    elif params[\"dataset\"] == \"v2\":\n",
    "        X_train, y_train = X_train_v2, y_train_v2\n",
    "        X_test, y_test = X_test_v2, y_test_v2\n",
    "\n",
    "    model = Sequential()\n",
    "    model.add(LSTM(params[\"lstm_units\"], return_sequences=True, input_shape=(100, 1)))\n",
    "    model.add(LSTM(params[\"lstm_units\"], return_sequences=True))\n",
    "    model.add(LSTM(params[\"lstm_units\"]))\n",
    "    model.add(Dense(1))\n",
    "\n",
    "    model.compile(loss=\"mean_squared_error\", optimizer=Adam(learning_rate=params[\"lr\"]))\n",
    "\n",
    "    with mlflow.start_run(nested=True):\n",
    "        model.fit(X_train, y_train, validation_split=0.2, epochs=params[\"epochs\"], batch_size=params[\"batch_size\"], verbose=0)\n",
    "\n",
    "        # Evaluate the model\n",
    "        eval_result = model.evaluate(X_test, y_test, batch_size=params[\"batch_size\"], verbose=0)\n",
    "        eval_rmse = np.sqrt(eval_result)  # RMSE from MSE loss\n",
    "\n",
    "        # Log parameters and results\n",
    "        mlflow.log_params(params)\n",
    "        mlflow.log_metric(\"eval_rmse\", eval_rmse)\n",
    "\n",
    "    return {\"loss\": eval_rmse, \"status\": STATUS_OK, \"model\": model, 'dataset': params['dataset']}\n"
   ]
  },
  {
   "cell_type": "code",
   "execution_count": null,
   "metadata": {},
   "outputs": [],
   "source": [
    "def objective(params):\n",
    "    # MLflow will track the parameters and results for each run\n",
    "    result = train_model(\n",
    "        params,\n",
    "        epochs=3,\n",
    "    )\n",
    "    return result"
   ]
  },
  {
   "cell_type": "markdown",
   "metadata": {},
   "source": [
    "## Model Training"
   ]
  },
  {
   "cell_type": "code",
   "execution_count": null,
   "metadata": {},
   "outputs": [],
   "source": [
    "MLFLOW_TRACKING_URI = \"sqlite:///mlflow.db\"\n",
    "subprocess.Popen([\"mlflow\", \"ui\", \"--backend-store-uri\", MLFLOW_TRACKING_URI])"
   ]
  },
  {
   "cell_type": "code",
   "execution_count": null,
   "metadata": {},
   "outputs": [],
   "source": [
    "print(\"Enter your authtoken, which can be copied from https://dashboard.ngrok.com/auth\")\n",
    "conf.get_default().auth_token = getpass.getpass()\n",
    "port=5000\n",
    "public_url = ngrok.connect(port).public_url\n",
    "print(f' * ngrok tunnel \\\"{public_url}\\\" -> \\\"http://127.0.0.1:{port}\\\"')"
   ]
  },
  {
   "cell_type": "code",
   "execution_count": null,
   "metadata": {},
   "outputs": [],
   "source": [
    "mlflow.set_tracking_uri(MLFLOW_TRACKING_URI)"
   ]
  },
  {
   "cell_type": "code",
   "execution_count": null,
   "metadata": {},
   "outputs": [],
   "source": [
    "mlflow.set_experiment(\"btc-price-prediction\")\n",
    "with mlflow.start_run():\n",
    "    # Conduct the hyperparameter search using Hyperopt\n",
    "    trials=Trials()\n",
    "    best=fmin(\n",
    "        fn=objective,\n",
    "        space=search_space,\n",
    "        algo=tpe.suggest,\n",
    "        max_evals=4,\n",
    "        trials=trials\n",
    "    )\n",
    "\n",
    "    # Fetch the details of the best run\n",
    "    best_run = sorted(trials.results, key=lambda x: x[\"loss\"])[0]\n",
    "    best_dataset = best_run['dataset']\n",
    "\n",
    "    if best_dataset == \"v1\":\n",
    "        X_sample = X_test_v1[:5]  # Select a small sample for signature\n",
    "    else:  # \"v2\"\n",
    "        X_sample = X_test_v2[:5]\n",
    "\n",
    "    signature = infer_signature(X_sample, best_run[\"model\"].predict(X_sample))\n",
    "\n",
    "    # Log the best parameters, loss, and model\n",
    "    mlflow.log_params(best)\n",
    "    # mlflow.log_param(\"dataset\", best_run[\"dataset\"])\n",
    "    mlflow.log_metric(\"eval_rmse\", best_run[\"loss\"])\n",
    "    mlflow.tensorflow.log_model(best_run[\"model\"], \"model\", signature=signature)\n",
    "\n",
    "    # Print out the best parameters and corresponding loss\n",
    "    print(f\"Best parameters: {best}\")\n",
    "    print(f\"Best eval rmse: {best_run['loss']}\")\n"
   ]
  }
 ],
 "metadata": {
  "kernelspec": {
   "display_name": "Python 3",
   "language": "python",
   "name": "python3"
  },
  "language_info": {
   "codemirror_mode": {
    "name": "ipython",
    "version": 3
   },
   "file_extension": ".py",
   "mimetype": "text/x-python",
   "name": "python",
   "nbconvert_exporter": "python",
   "pygments_lexer": "ipython3",
   "version": "3.10.11"
  }
 },
 "nbformat": 4,
 "nbformat_minor": 2
}
